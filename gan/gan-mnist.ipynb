{
 "cells": [
  {
   "cell_type": "code",
   "execution_count": 125,
   "metadata": {},
   "outputs": [],
   "source": [
    "# Import Dependencies\n",
    "import os\n",
    "from multiprocessing import cpu_count\n",
    "\n",
    "import matplotlib.pyplot as plt\n",
    "\n",
    "import numpy as np\n",
    "\n",
    "import mxnet as mx\n",
    "from mxnet import ndarray as nd\n",
    "from mxnet import gluon\n",
    "from mxnet.gluon.data.vision import transforms\n",
    "from mxnet import autograd\n"
   ]
  },
  {
   "cell_type": "code",
   "execution_count": 6,
   "metadata": {},
   "outputs": [],
   "source": [
    "# Parameters and Hyperparameters\n",
    "CPU_COUNT = cpu_count()\n",
    "\n",
    "epochs = 5\n",
    "batch_size = 64\n",
    "learning_rate = 0.001\n",
    "# Adam Optimizer params\n",
    "b1 = 0.5\n",
    "b2 = 0.999\n",
    "\n",
    "latent_space_dimension = 100\n",
    "image_size = 28\n",
    "image_channels = 1\n",
    "sample_interval = 400"
   ]
  },
  {
   "cell_type": "code",
   "execution_count": 8,
   "metadata": {},
   "outputs": [],
   "source": [
    "image_shape = (image_channels, image_size, image_size)"
   ]
  },
  {
   "cell_type": "code",
   "execution_count": 11,
   "metadata": {},
   "outputs": [],
   "source": [
    "ctx = mx.cpu() #Use mx.gpu(0) for GPU"
   ]
  },
  {
   "cell_type": "code",
   "execution_count": 97,
   "metadata": {},
   "outputs": [],
   "source": [
    "# Generator Network\n",
    "class Generator(gluon.Block):\n",
    "    def __init__(self):\n",
    "        super(Generator, self).__init__()\n",
    "        self.model = gluon.nn.Sequential()\n",
    "        with self.model.name_scope():\n",
    "            self.model.add(gluon.nn.Dense(256, in_units=latent_space_dimension))\n",
    "            self.model.add(gluon.nn.LeakyReLU(alpha=0.2))\n",
    "            self.model.add(gluon.nn.BatchNorm(momentum=0.8))\n",
    "            self.model.add(gluon.nn.Dense(512))\n",
    "            self.model.add(gluon.nn.LeakyReLU(alpha=0.2))\n",
    "            self.model.add(gluon.nn.BatchNorm(momentum=0.8))\n",
    "            self.model.add(gluon.nn.Dense(1024))\n",
    "            self.model.add(gluon.nn.LeakyReLU(alpha=0.2))\n",
    "            self.model.add(gluon.nn.BatchNorm(momentum=0.8))\n",
    "            self.model.add(gluon.nn.Dense(np.prod(image_shape), activation='tanh'))\n",
    "    \n",
    "    def forward(self, X):\n",
    "        img = self.model(X)\n",
    "        \n",
    "        return nd.reshape(img, shape=((X.shape[0],) + image_shape))\n",
    "        \n",
    "\n",
    "class Discriminator(gluon.Block):\n",
    "    def __init__(self):\n",
    "        super(Discriminator, self).__init__()\n",
    "        self.model = gluon.nn.Sequential()\n",
    "        with self.model.name_scope():\n",
    "            self.model.add(gluon.nn.Dense(512, in_units=np.prod(image_shape)))\n",
    "            self.model.add(gluon.nn.LeakyReLU(alpha=0.2))\n",
    "            self.model.add(gluon.nn.Dense(256, in_units=512))\n",
    "            self.model.add(gluon.nn.LeakyReLU(alpha=0.2))\n",
    "            self.model.add(gluon.nn.Dense(1, in_units=256))\n",
    "    \n",
    "    def forward(self, X):\n",
    "        return self.model(nd.reshape(X, shape=(X.shape[0], -1)))"
   ]
  },
  {
   "cell_type": "code",
   "execution_count": 98,
   "metadata": {},
   "outputs": [],
   "source": [
    "# Loss Functions\n",
    "adversarial_loss = gluon.loss.SigmoidBCELoss()"
   ]
  },
  {
   "cell_type": "code",
   "execution_count": 99,
   "metadata": {},
   "outputs": [],
   "source": [
    "generator = Generator()\n",
    "discriminator = Discriminator()"
   ]
  },
  {
   "cell_type": "code",
   "execution_count": 100,
   "metadata": {},
   "outputs": [],
   "source": [
    "# initialize the generator and the discriminator\n",
    "generator.initialize(mx.init.Normal(0.02), ctx=ctx)\n",
    "discriminator.initialize(mx.init.Normal(0.02), ctx=ctx)\n",
    "\n",
    "# trainer for the generator and the discriminator\n",
    "trainerG = gluon.Trainer(generator.collect_params(), 'adam', {'learning_rate': learning_rate, 'beta1': b1, 'beta2': b2})\n",
    "trainerD = gluon.Trainer(discriminator.collect_params(), 'adam', {'learning_rate': learning_rate, 'beta1': b1, 'beta2': b2})\n"
   ]
  },
  {
   "cell_type": "code",
   "execution_count": 101,
   "metadata": {},
   "outputs": [],
   "source": [
    "def transform(data, label):\n",
    "    return nd.transpose(data.astype(np.float32), (2,0,1))/255, label.astype(np.float32)\n",
    "train_data = gluon.data.DataLoader(gluon.data.vision.MNIST(train=True, transform=transform),\n",
    "                                      batch_size, shuffle=True)\n",
    "test_data = gluon.data.DataLoader(gluon.data.vision.MNIST(train=False, transform=transform),\n",
    "                                     batch_size, shuffle=False)"
   ]
  },
  {
   "cell_type": "code",
   "execution_count": null,
   "metadata": {},
   "outputs": [
    {
     "name": "stdout",
     "output_type": "stream",
     "text": [
      "[Epoch - 0] [Batch - 0] - Generator loss = 7.272, Discriminator loss = 0.182\n",
      "Example fake Generated image\n"
     ]
    },
    {
     "data": {
      "image/png": "[encoded data removed]",
      "text/plain": [
       "<Figure size 432x288 with 1 Axes>"
      ]
     },
     "metadata": {},
     "output_type": "display_data"
    },
    {
     "name": "stdout",
     "output_type": "stream",
     "text": [
      "[Epoch - 0] [Batch - 100] - Generator loss = 11.670, Discriminator loss = 0.397\n",
      "Example fake Generated image\n"
     ]
    },
    {
     "data": {
      "image/png": "[encoded data removed]",
      "text/plain": [
       "<Figure size 432x288 with 1 Axes>"
      ]
     },
     "metadata": {},
     "output_type": "display_data"
    },
    {
     "name": "stdout",
     "output_type": "stream",
     "text": [
      "[Epoch - 0] [Batch - 200] - Generator loss = 4.982, Discriminator loss = 0.163\n",
      "Example fake Generated image\n"
     ]
    },
    {
     "data": {
      "image/png": "[encoded data removed]",
      "text/plain": [
       "<Figure size 432x288 with 1 Axes>"
      ]
     },
     "metadata": {},
     "output_type": "display_data"
    },
    {
     "name": "stdout",
     "output_type": "stream",
     "text": [
      "[Epoch - 0] [Batch - 300] - Generator loss = 8.466, Discriminator loss = 0.749\n",
      "Example fake Generated image\n"
     ]
    },
    {
     "data": {
      "image/png": "[encoded data removed]",
      "text/plain": [
       "<Figure size 432x288 with 1 Axes>"
      ]
     },
     "metadata": {},
     "output_type": "display_data"
    },
    {
     "name": "stdout",
     "output_type": "stream",
     "text": [
      "[Epoch - 0] [Batch - 400] - Generator loss = 10.052, Discriminator loss = 0.077\n",
      "Example fake Generated image\n"
     ]
    },
    {
     "data": {
      "image/png": "[encoded data removed]",
      "text/plain": [
       "<Figure size 432x288 with 1 Axes>"
      ]
     },
     "metadata": {},
     "output_type": "display_data"
    },
    {
     "name": "stdout",
     "output_type": "stream",
     "text": [
      "[Epoch - 0] [Batch - 500] - Generator loss = 7.791, Discriminator loss = 0.057\n",
      "Example fake Generated image\n"
     ]
    },
    {
     "data": {
      "image/png": "[encoded data removed]",
      "text/plain": [
       "<Figure size 432x288 with 1 Axes>"
      ]
     },
     "metadata": {},
     "output_type": "display_data"
    },
    {
     "name": "stdout",
     "output_type": "stream",
     "text": [
      "[Epoch - 0] [Batch - 600] - Generator loss = 10.576, Discriminator loss = 0.352\n",
      "Example fake Generated image\n"
     ]
    },
    {
     "data": {
      "image/png": "[encoded data removed]",
      "text/plain": [
       "<Figure size 432x288 with 1 Axes>"
      ]
     },
     "metadata": {},
     "output_type": "display_data"
    }
   ],
   "source": [
    "smoothing_constant = 0.01\n",
    "\n",
    "for e in range(epochs):\n",
    "    for i, (real_imgs, label) in enumerate(train_data):\n",
    "        real_imgs = real_imgs.as_in_context(ctx)\n",
    "        label = label.as_in_context(ctx)\n",
    "        \n",
    "        # Adversarial ground truths\n",
    "        valid = nd.ones(shape=(real_imgs.shape[0], 1))\n",
    "        fake = nd.zeros(shape=(real_imgs.shape[0], 1))\n",
    "        \n",
    "        ############## Train Generator ################\n",
    "        # Sample random noise for Generator Input\n",
    "        z = nd.random.normal(loc=0, scale=1, shape=(real_imgs.shape[0], latent_space_dimension))\n",
    "        \n",
    "        with autograd.record():\n",
    "            gen_imgs = generator(z)\n",
    "            g_loss = adversarial_loss(discriminator(gen_imgs), valid)\n",
    "        \n",
    "        g_loss.backward()\n",
    "        trainerG.step(real_imgs.shape[0])\n",
    "        \n",
    "        ############# Train Discriminator ###############\n",
    "        with autograd.record():\n",
    "            real_loss = adversarial_loss(discriminator(real_imgs), valid)\n",
    "            fake_loss = adversarial_loss(discriminator(gen_imgs.detach()), fake)\n",
    "            d_loss = (real_loss + fake_loss) / 2\n",
    "        \n",
    "        d_loss.backward()\n",
    "        trainerD.step(real_imgs.shape[0])\n",
    "        \n",
    "        # Print loss infomation every 500 batches\n",
    "        if i % 100 == 0:\n",
    "            print('[Epoch - {}] [Batch - {}] - Generator loss = {:.3f}, Discriminator loss = {:.3f}'\n",
    "                         .format(e, i, nd.mean(g_loss).asscalar(), nd.mean(d_loss).asscalar()))\n",
    "            print('Example fake Generated image')\n",
    "            # Choose a random image from generated image\n",
    "            rand_index = np.random.randint(0, gen_imgs.shape[0])\n",
    "            plt.imshow(gen_imgs[rand_index].asnumpy().reshape(28,28), cmap='gray')\n",
    "            plt.show()"
   ]
  }
 ],
 "metadata": {
  "kernelspec": {
   "display_name": "Python 3",
   "language": "python",
   "name": "python3"
  },
  "language_info": {
   "codemirror_mode": {
    "name": "ipython",
    "version": 3
   },
   "file_extension": ".py",
   "mimetype": "text/x-python",
   "name": "python",
   "nbconvert_exporter": "python",
   "pygments_lexer": "ipython3",
   "version": "3.6.5"
  }
 },
 "nbformat": 4,
 "nbformat_minor": 2
}
