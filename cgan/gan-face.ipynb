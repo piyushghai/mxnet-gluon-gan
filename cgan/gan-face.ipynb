{
 "cells": [
  {
   "cell_type": "markdown",
   "metadata": {},
   "source": [
    "# Generative Adversarial Networks with MXNet GLUON\n"
   ]
  },
  {
   "cell_type": "markdown",
   "metadata": {},
   "source": [
    "## Import Dependencies"
   ]
  },
  {
   "cell_type": "code",
   "execution_count": 1,
   "metadata": {},
   "outputs": [
    {
     "name": "stderr",
     "output_type": "stream",
     "text": [
      "/Users/kannanva/anaconda3/lib/python3.6/site-packages/h5py/__init__.py:36: FutureWarning: Conversion of the second argument of issubdtype from `float` to `np.floating` is deprecated. In future, it will be treated as `np.float64 == np.dtype(float).type`.\n",
      "  from ._conv import register_converters as _register_converters\n"
     ]
    }
   ],
   "source": [
    "import os, shutil\n",
    "from multiprocessing import cpu_count\n",
    "\n",
    "import matplotlib.pyplot as plt\n",
    "\n",
    "import numpy as np\n",
    "\n",
    "import mxnet as mx\n",
    "from mxnet import ndarray as nd\n",
    "from mxnet import gluon\n",
    "from mxnet.gluon.data.vision import transforms\n",
    "from mxnet import autograd\n"
   ]
  },
  {
   "cell_type": "markdown",
   "metadata": {},
   "source": [
    "## Parameters and Hyperparameters"
   ]
  },
  {
   "cell_type": "code",
   "execution_count": 2,
   "metadata": {},
   "outputs": [],
   "source": [
    "# This is required for dataloader num_process. Fully utilize CPUs to read and transform input data\n",
    "CPU_COUNT = cpu_count()\n",
    "\n",
    "# Training Parameters\n",
    "epochs = 25\n",
    "batch_size = 10\n",
    "learning_rate = 0.004\n",
    "momentum = 0.5\n",
    "\n",
    "latent_space_dimension = 3* 20*20\n",
    "image_size = 64\n",
    "image_channels = 3\n",
    "image_shape = (image_channels, image_size, image_size)"
   ]
  },
  {
   "cell_type": "code",
   "execution_count": 3,
   "metadata": {},
   "outputs": [],
   "source": [
    "ctx = mx.cpu() #Use mx.gpu(0) for GPU"
   ]
  },
  {
   "cell_type": "markdown",
   "metadata": {},
   "source": [
    "## Create Generator and Discriminator Network"
   ]
  },
  {
   "cell_type": "code",
   "execution_count": 4,
   "metadata": {},
   "outputs": [],
   "source": [
    "# Create Generator Network\n",
    "class Generator(gluon.Block):\n",
    "    def __init__(self):\n",
    "        super(Generator, self).__init__()\n",
    "        self.model = gluon.nn.Sequential()\n",
    "        with self.model.name_scope():\n",
    "            self.model.add(gluon.nn.Conv2DTranspose(in_channels=3, channels=256, kernel_size=3, strides=1))\n",
    "            self.model.add(gluon.nn.BatchNorm())\n",
    "            self.model.add(gluon.nn.LeakyReLU(alpha=0.2))\n",
    "            self.model.add(gluon.nn.Conv2DTranspose(channels=128, kernel_size=3, strides=1))\n",
    "            self.model.add(gluon.nn.BatchNorm())\n",
    "            self.model.add(gluon.nn.LeakyReLU(alpha=0.2))\n",
    "            self.model.add(gluon.nn.Conv2DTranspose(channels=64, kernel_size=3, strides=2))\n",
    "            self.model.add(gluon.nn.BatchNorm())\n",
    "            self.model.add(gluon.nn.LeakyReLU(alpha=0.2))\n",
    "            self.model.add(gluon.nn.Conv2DTranspose(channels=3, kernel_size=3, strides=2))\n",
    "            self.model.add(gluon.nn.Activation(activation='tanh'))\n",
    "            self.model.add(gluon.nn.Dense(np.prod(image_shape), activation='tanh'))\n",
    "    \n",
    "    def forward(self, X):\n",
    "        img = self.model(X)\n",
    "        # Reshape dense layer output to n*3*64*64\n",
    "        return nd.reshape(img, shape=((X.shape[0],) + image_shape))\n",
    "        \n",
    "# Create Discriminator Network\n",
    "# Discriminator is not so powerful compared to Generator!!\n",
    "class Discriminator(gluon.Block):\n",
    "    def __init__(self):\n",
    "        super(Discriminator, self).__init__()\n",
    "        self.model = gluon.nn.Sequential()\n",
    "        with self.model.name_scope():\n",
    "            self.model.add(gluon.nn.Conv2D(in_channels=3, channels=64, kernel_size=5, strides=2))\n",
    "            self.model.add(gluon.nn.LeakyReLU(alpha=0.2))\n",
    "            self.model.add(gluon.nn.Conv2D(channels=128, kernel_size=5, strides=2))\n",
    "            self.model.add(gluon.nn.BatchNorm())\n",
    "            self.model.add(gluon.nn.LeakyReLU(alpha=0.2))\n",
    "            self.model.add(gluon.nn.Conv2D(channels=256, kernel_size=5, strides=1))\n",
    "            self.model.add(gluon.nn.BatchNorm())\n",
    "            self.model.add(gluon.nn.LeakyReLU(alpha=0.2))\n",
    "            self.model.add(gluon.nn.Conv2D(channels=512, kernel_size=5, strides=1))\n",
    "            self.model.add(gluon.nn.BatchNorm())\n",
    "            self.model.add(gluon.nn.LeakyReLU(alpha=0.2))\n",
    "            self.model.add(gluon.nn.Dense(np.prod(image_shape)))\n",
    "\n",
    "    \n",
    "    def forward(self, X):\n",
    "        img = self.model(X)\n",
    "        # Reshape dense layer output to n*3*64*64\n",
    "        return nd.reshape(img, shape=((X.shape[0],) + image_shape))\n"
   ]
  },
  {
   "cell_type": "code",
   "execution_count": 5,
   "metadata": {},
   "outputs": [],
   "source": [
    "# Loss Function - Output is Binary (0/1 for Fake/Real) hence BCE Loss\n",
    "adversarial_loss = gluon.loss.SigmoidBCELoss()"
   ]
  },
  {
   "cell_type": "code",
   "execution_count": 6,
   "metadata": {},
   "outputs": [
    {
     "data": {
      "text/plain": [
       "(Generator(\n",
       "   (model): Sequential(\n",
       "     (0): Conv2DTranspose(256 -> 3, kernel_size=(3, 3), stride=(1, 1))\n",
       "     (1): BatchNorm(axis=1, eps=1e-05, momentum=0.9, fix_gamma=False, use_global_stats=False, in_channels=None)\n",
       "     (2): LeakyReLU(0.2)\n",
       "     (3): Conv2DTranspose(128 -> 0, kernel_size=(3, 3), stride=(1, 1))\n",
       "     (4): BatchNorm(axis=1, eps=1e-05, momentum=0.9, fix_gamma=False, use_global_stats=False, in_channels=None)\n",
       "     (5): LeakyReLU(0.2)\n",
       "     (6): Conv2DTranspose(64 -> 0, kernel_size=(3, 3), stride=(2, 2))\n",
       "     (7): BatchNorm(axis=1, eps=1e-05, momentum=0.9, fix_gamma=False, use_global_stats=False, in_channels=None)\n",
       "     (8): LeakyReLU(0.2)\n",
       "     (9): Conv2DTranspose(3 -> 0, kernel_size=(3, 3), stride=(2, 2))\n",
       "     (10): Activation(tanh)\n",
       "     (11): Dense(None -> 12288, Activation(tanh))\n",
       "   )\n",
       " ), Discriminator(\n",
       "   (model): Sequential(\n",
       "     (0): Conv2D(3 -> 64, kernel_size=(5, 5), stride=(2, 2))\n",
       "     (1): LeakyReLU(0.2)\n",
       "     (2): Conv2D(None -> 128, kernel_size=(5, 5), stride=(2, 2))\n",
       "     (3): BatchNorm(axis=1, eps=1e-05, momentum=0.9, fix_gamma=False, use_global_stats=False, in_channels=None)\n",
       "     (4): LeakyReLU(0.2)\n",
       "     (5): Conv2D(None -> 256, kernel_size=(5, 5), stride=(1, 1))\n",
       "     (6): BatchNorm(axis=1, eps=1e-05, momentum=0.9, fix_gamma=False, use_global_stats=False, in_channels=None)\n",
       "     (7): LeakyReLU(0.2)\n",
       "     (8): Conv2D(None -> 512, kernel_size=(5, 5), stride=(1, 1))\n",
       "     (9): BatchNorm(axis=1, eps=1e-05, momentum=0.9, fix_gamma=False, use_global_stats=False, in_channels=None)\n",
       "     (10): LeakyReLU(0.2)\n",
       "     (11): Dense(None -> 12288, linear)\n",
       "   )\n",
       " ))"
      ]
     },
     "execution_count": 6,
     "metadata": {},
     "output_type": "execute_result"
    }
   ],
   "source": [
    "generator = Generator()\n",
    "discriminator = Discriminator()\n",
    "\n",
    "generator, discriminator"
   ]
  },
  {
   "cell_type": "markdown",
   "metadata": {},
   "source": [
    "## Initialize Generator and Discriminator Network Parameters"
   ]
  },
  {
   "cell_type": "code",
   "execution_count": 7,
   "metadata": {},
   "outputs": [],
   "source": [
    "# initialize the generator and the discriminator\n",
    "generator.initialize(mx.init.Normal(0.02), ctx=ctx, force_reinit=True)\n",
    "discriminator.initialize(mx.init.Normal(0.02), ctx=ctx)"
   ]
  },
  {
   "cell_type": "markdown",
   "metadata": {},
   "source": [
    "## Create Trainer for Generator and Discriminator"
   ]
  },
  {
   "cell_type": "code",
   "execution_count": 8,
   "metadata": {},
   "outputs": [],
   "source": [
    "# trainer for the generator and the discriminator\n",
    "trainerG = gluon.Trainer(generator.collect_params(), 'sgd', {'learning_rate': learning_rate, 'momentum': momentum})\n",
    "trainerD = gluon.Trainer(discriminator.collect_params(), 'sgd', {'learning_rate': learning_rate, 'momentum': momentum})"
   ]
  },
  {
   "cell_type": "markdown",
   "metadata": {},
   "source": [
    "## Prepare Data and Data Loaders"
   ]
  },
  {
   "cell_type": "code",
   "execution_count": 9,
   "metadata": {},
   "outputs": [],
   "source": [
    "# filelist_path = './data/'\n",
    "# files = []\n",
    "# with open(filelist_path + 'filelist.train.txt', 'r') as filelist_f:\n",
    "#     files = [line.strip() for line in filelist_f]\n",
    "# if not os.path.isdir(\"./data/train_images\"):\n",
    "#     os.makedirs('./data/train_images')\n",
    "# for i, line in enumerate(files):\n",
    "#     img_path = line.strip()\n",
    "#     full_path = os.path.join(filelist_path + 'lfwcrop_color/faces', img_path)\n",
    "#     shutil.copy(full_path, './data/train_images')\n",
    "# if not os.path.exists('./data/train.rec'):\n",
    "#     imgs = os.listdir('./data/train_images')\n",
    "#     record = mx.recordio.MXIndexedRecordIO('./data/train.idx', './data/train.rec', 'w')\n",
    "#     for i, img in enumerate(imgs):\n",
    "#         str_img = open('./data/train_images/'+img, 'rb').read()\n",
    "#         s = mx.recordio.pack((0, i, i, 0), str_img)\n",
    "#         record.write_idx(i, s)\n",
    "\n",
    "# files = []\n",
    "# with open(filelist_path + 'filelist.test.txt', 'r') as filelist_f:\n",
    "#     files = [line.strip() for line in filelist_f]\n",
    "# if not os.path.isdir(\"./data/test_images\"):\n",
    "#     os.makedirs('./data/test_images')\n",
    "# for i, line in enumerate(files):\n",
    "#     img_path = line.strip()\n",
    "#     full_path = os.path.join(filelist_path + 'lfwcrop_color/faces', img_path)\n",
    "#     shutil.copy(full_path, './data/test_images')\n",
    "# if not os.path.exists('./data/test.rec'):\n",
    "#     imgs = os.listdir('./data/test_images')\n",
    "#     record = mx.recordio.MXIndexedRecordIO('./data/test.idx', './data/test.rec', 'w')\n",
    "#     for i, img in enumerate(imgs):\n",
    "#         str_img = open('./data/test_images/'+img, 'rb').read()\n",
    "#         s = mx.recordio.pack((0, i, i, 0), str_img)\n",
    "#         record.write_idx(i, s)"
   ]
  },
  {
   "cell_type": "code",
   "execution_count": 10,
   "metadata": {},
   "outputs": [],
   "source": [
    "def transform(data, label):\n",
    "    return nd.transpose(data, (2,0,1))/255, label\n",
    "\n",
    "train_dataset = gluon.data.vision.ImageRecordDataset('./data/train.rec').transform(transform)\n",
    "train_data = gluon.data.DataLoader(train_dataset, batch_size, shuffle=True, num_workers=CPU_COUNT)\n",
    "\n",
    "test_dataset = gluon.data.vision.ImageRecordDataset('./data/test.rec').transform(transform)\n",
    "test_data = gluon.data.DataLoader(test_dataset, batch_size, shuffle=False, num_workers=CPU_COUNT)\n"
   ]
  },
  {
   "cell_type": "markdown",
   "metadata": {},
   "source": [
    "## Train the Generator and Discriminator Network"
   ]
  },
  {
   "cell_type": "code",
   "execution_count": null,
   "metadata": {},
   "outputs": [
    {
     "name": "stdout",
     "output_type": "stream",
     "text": [
      "[Epoch - 0] [Batch - 0] - Generator loss = 0.960, Discriminator loss = 0.906\n",
      "Example fake Generated image\n"
     ]
    },
    {
     "name": "stderr",
     "output_type": "stream",
     "text": [
      "Clipping input data to the valid range for imshow with RGB data ([0..1] for floats or [0..255] for integers).\n"
     ]
    },
    {
     "data": {
      "image/png": "[encoded data removed]",
      "text/plain": [
       "<Figure size 432x288 with 1 Axes>"
      ]
     },
     "metadata": {},
     "output_type": "display_data"
    }
   ],
   "source": [
    "for e in range(epochs):\n",
    "    for i, (real_imgs, label) in enumerate(train_data):\n",
    "        real_imgs = real_imgs.as_in_context(ctx)\n",
    "        real_imgs = nd.cast(real_imgs, dtype='float32')\n",
    "        label = label.as_in_context(ctx)\n",
    "        \n",
    "        # Adversarial ground truths\n",
    "        valid = nd.ones(shape=(real_imgs.shape))\n",
    "        fake = nd.zeros(shape=(real_imgs.shape))\n",
    "        \n",
    "        ############## Train Generator ################\n",
    "        # Sample random noise for Generator Input\n",
    "#         z = nd.random.normal(loc=0, scale=1, shape=(real_imgs.shape[0], 3, 20, 20))\n",
    "        z= nd.random.uniform(-1, 1, shape=(real_imgs.shape[0], 3, 20, 20))\n",
    "        \n",
    "        with autograd.record():\n",
    "            gen_imgs = generator(z)\n",
    "            g_loss = adversarial_loss(discriminator(gen_imgs), valid)\n",
    "        \n",
    "        g_loss.backward()\n",
    "        trainerG.step(real_imgs.shape[0])\n",
    "        \n",
    "        ############# Train Discriminator ###############\n",
    "        with autograd.record():\n",
    "            real_loss = adversarial_loss(discriminator(real_imgs), valid)\n",
    "            fake_loss = adversarial_loss(discriminator(gen_imgs.detach()), fake)\n",
    "            d_loss = (real_loss + fake_loss) / 2\n",
    "        \n",
    "        d_loss.backward()\n",
    "        trainerD.step(real_imgs.shape[0])\n",
    "        \n",
    "        # Print loss infomation and a fake image every 500 batches\n",
    "        if i % 500 == 0:\n",
    "            print('[Epoch - {}] [Batch - {}] - Generator loss = {:.3f}, Discriminator loss = {:.3f}'\n",
    "                         .format(e, i, nd.mean(g_loss).asscalar(), nd.mean(d_loss).asscalar()))\n",
    "            print('Example fake Generated image')\n",
    "            # Choose a random image from generated image\n",
    "            rand_index = np.random.randint(0, gen_imgs.shape[0])\n",
    "            plt.imshow(gen_imgs[rand_index].asnumpy().reshape(64,64,3))\n",
    "            plt.show()"
   ]
  },
  {
   "cell_type": "code",
   "execution_count": null,
   "metadata": {},
   "outputs": [],
   "source": []
  }
 ],
 "metadata": {
  "kernelspec": {
   "display_name": "Python 3",
   "language": "python",
   "name": "python3"
  },
  "language_info": {
   "codemirror_mode": {
    "name": "ipython",
    "version": 3
   },
   "file_extension": ".py",
   "mimetype": "text/x-python",
   "name": "python",
   "nbconvert_exporter": "python",
   "pygments_lexer": "ipython3",
   "version": "3.6.5"
  }
 },
 "nbformat": 4,
 "nbformat_minor": 2
}
